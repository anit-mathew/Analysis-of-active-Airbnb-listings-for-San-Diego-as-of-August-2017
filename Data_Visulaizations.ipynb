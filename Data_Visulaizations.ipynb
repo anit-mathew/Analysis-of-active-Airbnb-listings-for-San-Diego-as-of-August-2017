{
 "cells": [
  {
   "cell_type": "code",
   "execution_count": 1,
   "metadata": {},
   "outputs": [
    {
     "data": {
      "text/html": [
       "<div>\n",
       "<style scoped>\n",
       "    .dataframe tbody tr th:only-of-type {\n",
       "        vertical-align: middle;\n",
       "    }\n",
       "\n",
       "    .dataframe tbody tr th {\n",
       "        vertical-align: top;\n",
       "    }\n",
       "\n",
       "    .dataframe thead th {\n",
       "        text-align: right;\n",
       "    }\n",
       "</style>\n",
       "<table border=\"1\" class=\"dataframe\">\n",
       "  <thead>\n",
       "    <tr style=\"text-align: right;\">\n",
       "      <th></th>\n",
       "      <th>room_id</th>\n",
       "      <th>survey_id</th>\n",
       "      <th>host_id</th>\n",
       "      <th>room_type</th>\n",
       "      <th>country</th>\n",
       "      <th>city</th>\n",
       "      <th>borough</th>\n",
       "      <th>neighborhood</th>\n",
       "      <th>reviews</th>\n",
       "      <th>overall_satisfaction</th>\n",
       "      <th>accommodates</th>\n",
       "      <th>bedrooms</th>\n",
       "      <th>bathroom</th>\n",
       "      <th>price</th>\n",
       "      <th>minstay</th>\n",
       "      <th>last_modified</th>\n",
       "      <th>latitude</th>\n",
       "      <th>longitude</th>\n",
       "      <th>location</th>\n",
       "    </tr>\n",
       "  </thead>\n",
       "  <tbody>\n",
       "    <tr>\n",
       "      <th>0</th>\n",
       "      <td>11637213</td>\n",
       "      <td>1436</td>\n",
       "      <td>24705242</td>\n",
       "      <td>Shared room</td>\n",
       "      <td>NaN</td>\n",
       "      <td>San Diego</td>\n",
       "      <td>NaN</td>\n",
       "      <td>Pacific Beach</td>\n",
       "      <td>2</td>\n",
       "      <td>0.0</td>\n",
       "      <td>2</td>\n",
       "      <td>1</td>\n",
       "      <td>NaN</td>\n",
       "      <td>63</td>\n",
       "      <td>NaN</td>\n",
       "      <td>19:23.0</td>\n",
       "      <td>32.795259</td>\n",
       "      <td>-117.252712</td>\n",
       "      <td>0101000020E6100000A2D3F36E2C505DC0C26C020CCB65...</td>\n",
       "    </tr>\n",
       "    <tr>\n",
       "      <th>1</th>\n",
       "      <td>14351163</td>\n",
       "      <td>1436</td>\n",
       "      <td>87948847</td>\n",
       "      <td>Shared room</td>\n",
       "      <td>NaN</td>\n",
       "      <td>San Diego</td>\n",
       "      <td>NaN</td>\n",
       "      <td>Mountain View</td>\n",
       "      <td>0</td>\n",
       "      <td>0.0</td>\n",
       "      <td>1</td>\n",
       "      <td>1</td>\n",
       "      <td>NaN</td>\n",
       "      <td>80</td>\n",
       "      <td>NaN</td>\n",
       "      <td>19:23.0</td>\n",
       "      <td>32.699822</td>\n",
       "      <td>-117.106789</td>\n",
       "      <td>0101000020E6100000A5A487A1D5465DC0BA826DC49359...</td>\n",
       "    </tr>\n",
       "    <tr>\n",
       "      <th>2</th>\n",
       "      <td>9327098</td>\n",
       "      <td>1436</td>\n",
       "      <td>31043523</td>\n",
       "      <td>Shared room</td>\n",
       "      <td>NaN</td>\n",
       "      <td>San Diego</td>\n",
       "      <td>NaN</td>\n",
       "      <td>Tierrasanta</td>\n",
       "      <td>0</td>\n",
       "      <td>0.0</td>\n",
       "      <td>2</td>\n",
       "      <td>1</td>\n",
       "      <td>NaN</td>\n",
       "      <td>75</td>\n",
       "      <td>NaN</td>\n",
       "      <td>19:23.0</td>\n",
       "      <td>32.836102</td>\n",
       "      <td>-117.084967</td>\n",
       "      <td>0101000020E6100000508F6D1970455DC0620FED63056B...</td>\n",
       "    </tr>\n",
       "    <tr>\n",
       "      <th>3</th>\n",
       "      <td>17535919</td>\n",
       "      <td>1436</td>\n",
       "      <td>117987352</td>\n",
       "      <td>Shared room</td>\n",
       "      <td>NaN</td>\n",
       "      <td>San Diego</td>\n",
       "      <td>NaN</td>\n",
       "      <td>Pacific Beach</td>\n",
       "      <td>1</td>\n",
       "      <td>0.0</td>\n",
       "      <td>3</td>\n",
       "      <td>1</td>\n",
       "      <td>NaN</td>\n",
       "      <td>70</td>\n",
       "      <td>NaN</td>\n",
       "      <td>19:23.0</td>\n",
       "      <td>32.801236</td>\n",
       "      <td>-117.241454</td>\n",
       "      <td>0101000020E6100000425F7AFB734F5DC05E30B8E68E66...</td>\n",
       "    </tr>\n",
       "    <tr>\n",
       "      <th>4</th>\n",
       "      <td>3688119</td>\n",
       "      <td>1436</td>\n",
       "      <td>13209607</td>\n",
       "      <td>Shared room</td>\n",
       "      <td>NaN</td>\n",
       "      <td>San Diego</td>\n",
       "      <td>NaN</td>\n",
       "      <td>Cortez Hill</td>\n",
       "      <td>1</td>\n",
       "      <td>0.0</td>\n",
       "      <td>2</td>\n",
       "      <td>1</td>\n",
       "      <td>NaN</td>\n",
       "      <td>78</td>\n",
       "      <td>NaN</td>\n",
       "      <td>19:23.0</td>\n",
       "      <td>32.724846</td>\n",
       "      <td>-117.165529</td>\n",
       "      <td>0101000020E61000008962F206984A5DC07651F4C0C75C...</td>\n",
       "    </tr>\n",
       "  </tbody>\n",
       "</table>\n",
       "</div>"
      ],
      "text/plain": [
       "    room_id  survey_id    host_id    room_type  country       city  borough  \\\n",
       "0  11637213       1436   24705242  Shared room      NaN  San Diego      NaN   \n",
       "1  14351163       1436   87948847  Shared room      NaN  San Diego      NaN   \n",
       "2   9327098       1436   31043523  Shared room      NaN  San Diego      NaN   \n",
       "3  17535919       1436  117987352  Shared room      NaN  San Diego      NaN   \n",
       "4   3688119       1436   13209607  Shared room      NaN  San Diego      NaN   \n",
       "\n",
       "    neighborhood  reviews  overall_satisfaction  accommodates  bedrooms  \\\n",
       "0  Pacific Beach        2                   0.0             2         1   \n",
       "1  Mountain View        0                   0.0             1         1   \n",
       "2    Tierrasanta        0                   0.0             2         1   \n",
       "3  Pacific Beach        1                   0.0             3         1   \n",
       "4    Cortez Hill        1                   0.0             2         1   \n",
       "\n",
       "   bathroom  price  minstay last_modified   latitude   longitude  \\\n",
       "0       NaN     63      NaN       19:23.0  32.795259 -117.252712   \n",
       "1       NaN     80      NaN       19:23.0  32.699822 -117.106789   \n",
       "2       NaN     75      NaN       19:23.0  32.836102 -117.084967   \n",
       "3       NaN     70      NaN       19:23.0  32.801236 -117.241454   \n",
       "4       NaN     78      NaN       19:23.0  32.724846 -117.165529   \n",
       "\n",
       "                                            location  \n",
       "0  0101000020E6100000A2D3F36E2C505DC0C26C020CCB65...  \n",
       "1  0101000020E6100000A5A487A1D5465DC0BA826DC49359...  \n",
       "2  0101000020E6100000508F6D1970455DC0620FED63056B...  \n",
       "3  0101000020E6100000425F7AFB734F5DC05E30B8E68E66...  \n",
       "4  0101000020E61000008962F206984A5DC07651F4C0C75C...  "
      ]
     },
     "execution_count": 1,
     "metadata": {},
     "output_type": "execute_result"
    }
   ],
   "source": [
    "\"\"\"\n",
    "Anit Mathew\n",
    "CMPS 530 01\n",
    "This program implements a series of data visulaization plotting for the project. \n",
    "\"\"\"\n",
    "\n",
    "# importing required libraries\n",
    "import pandas as pd\n",
    "import seaborn as sb\n",
    "import matplotlib.pyplot as plt\n",
    "import numpy as np\n",
    "\n",
    "# reading the dataset\n",
    "df = pd.read_csv('C:/Python_course/Project/dataset.csv')\n",
    "df.head(5) # displaying the data"
   ]
  },
  {
   "cell_type": "code",
   "execution_count": 2,
   "metadata": {},
   "outputs": [
    {
     "name": "stdout",
     "output_type": "stream",
     "text": [
      "Data is cleaned and has no null values\n"
     ]
    }
   ],
   "source": [
    "# To convert NaN values to 0 for preparation for Modelling\n",
    "df = df.fillna(0)\n",
    "# Checking to ensure that there are no NULL entries\n",
    "result = df.isnull().sum()\n",
    "count = 0\n",
    "for item in result:\n",
    "    if item != 0:\n",
    "        count += 1\n",
    "if count == 0:\n",
    "    print(\"Data is cleaned and has no null values\")        \n",
    "else:\n",
    "    print(\"Data has null values\")\n"
   ]
  },
  {
   "cell_type": "code",
   "execution_count": 3,
   "metadata": {},
   "outputs": [
    {
     "data": {
      "image/png": "[encoded data removed]",
      "text/plain": [
       "<Figure size 1000x400 with 2 Axes>"
      ]
     },
     "metadata": {},
     "output_type": "display_data"
    }
   ],
   "source": [
    "'''\n",
    "Code to count number of listing and calculating average prices for type of listing. \n",
    "Also, to plot the results on a bar plot. \n",
    "\n",
    "'''\n",
    "# plotting number of listings per room type. \n",
    "plot1 = df[['room_type', 'price']]\n",
    "# calculating average of prices and plotting the listings per room type. \n",
    "fig, axes = plt.subplots(nrows=1, ncols=2)\n",
    "# plotting barplot of number of listings per room type\n",
    "num_list_plot = plot1['room_type'].value_counts().plot(kind='bar', figsize=(10, 4), rot=0, ax=axes[0], color=[\"orange\", \"green\", \"blue\"])\n",
    "# to display the count over every bar\n",
    "for i in num_list_plot.containers:\n",
    "    num_list_plot.bar_label(i,)\n",
    "# labeling x axis\n",
    "axes[0].set_xlabel(\"room_type\")\n",
    "# labeling y axis\n",
    "axes[0].set_ylabel(\"count\")\n",
    "# plot title\n",
    "axes[0].set_title(\"Number of listings per room type\")\n",
    "# plotting barplot of average per per room type\n",
    "bp = sb.barplot(ax=axes[1], x='room_type', y='price', data=plot1, ci=False)\n",
    "# to display the count over every bar\n",
    "for i in bp.containers:\n",
    "    bp.bar_label(i,)\n",
    "# plot title\n",
    "axes[1].set_title(\"Average price per room type\")\n",
    "# saving plot\n",
    "plt.savefig('Number of listings per room type.png', bbox_inches='tight')\n",
    "plt.show()\n"
   ]
  },
  {
   "cell_type": "code",
   "execution_count": 4,
   "metadata": {},
   "outputs": [
    {
     "data": {
      "image/png": "[encoded data removed]",
      "text/plain": [
       "<Figure size 1300x600 with 2 Axes>"
      ]
     },
     "metadata": {},
     "output_type": "display_data"
    }
   ],
   "source": [
    "'''\n",
    "Code to count number of listing and calculating average prices as per number of bedrooms. \n",
    "Also, to plot the results on a bar plot. \n",
    "\n",
    "'''\n",
    "plot2 = df[['bedrooms', 'price']]\n",
    "# calculating average of prices and plotting the listings per number of bedroom. \n",
    "fig, axes = plt.subplots(nrows=1, ncols=2)\n",
    "# plotting barplot of number of listings per bedroom\n",
    "plt_num_bedrooms = plot2['bedrooms'].value_counts().plot(kind='bar', figsize=(13, 6), rot=0, ax=axes[0])\n",
    "# to display the count over every bar\n",
    "for i in plt_num_bedrooms.containers:\n",
    "    plt_num_bedrooms.bar_label(i,)\n",
    "# labeling x axis\n",
    "axes[0].set_xlabel(\"number of bedrooms\")\n",
    "# labeling y axis\n",
    "axes[0].set_ylabel(\"count\")\n",
    "# setting title\n",
    "axes[0].set_title(\"Number of listings per bedroom\")\n",
    "# plotting barplot of average of prices per number of bedroom\n",
    "bp_bedrooms = sb.barplot(ax=axes[1], x='bedrooms', y='price', data=plot2, ci=False)\n",
    "# to display the count over every bar\n",
    "for i in bp_bedrooms.containers:\n",
    "    bp_bedrooms.bar_label(i,)\n",
    "# setting title\n",
    "axes[1].set_title(\"average of prices per number of bedroom\")\n",
    "# saving plot\n",
    "plt.savefig('Number of listings vs bedrooom.png', bbox_inches='tight')\n",
    "plt.show()\n",
    "\n"
   ]
  },
  {
   "cell_type": "code",
   "execution_count": 5,
   "metadata": {},
   "outputs": [
    {
     "data": {
      "image/png": "[encoded data removed]",
      "text/plain": [
       "<Figure size 1500x500 with 2 Axes>"
      ]
     },
     "metadata": {},
     "output_type": "display_data"
    }
   ],
   "source": [
    "'''\n",
    "Code to count number of listing and calculating average prices as per number of accomodation. \n",
    "Also, to plot the results on a bar plot. \n",
    "\n",
    "'''\n",
    "\n",
    "plot3 = df[['accommodates', 'price']]\n",
    "# calculating average of prices and plotting the listings per number of bedroom. \n",
    "fig, axes = plt.subplots(nrows=1, ncols=2)\n",
    "# plotting barplot of number of listings per bedroom\n",
    "acc_plots = plot3['accommodates'].value_counts().plot(kind='bar', figsize=(15, 5), rot=0, ax=axes[0])\n",
    "# to display the count over every bar\n",
    "for i in acc_plots.containers:\n",
    "    acc_plots.bar_label(i,)\n",
    "# labeling x axis\n",
    "axes[0].set_xlabel(\"accommodation\")\n",
    "# labeling y axis\n",
    "axes[0].set_ylabel(\"count\")\n",
    "# setting title\n",
    "axes[0].set_title(\"Number of listings per accomodation\")\n",
    "# plotting barplot for average of prices per number of accomodation\n",
    "bp_aco = sb.barplot(ax=axes[1], x='accommodates', y='price', data=plot3, ci=False)\n",
    "# setting title\n",
    "axes[1].set_title(\"Average of prices per number of accomodation\")\n",
    "# saving file\n",
    "plt.savefig('Number of listings vs accomodation.png', bbox_inches='tight')\n",
    "plt.show()\n"
   ]
  },
  {
   "cell_type": "code",
   "execution_count": 6,
   "metadata": {},
   "outputs": [
    {
     "data": {
      "image/png": "[encoded data removed]",
      "text/plain": [
       "<Figure size 640x480 with 4 Axes>"
      ]
     },
     "metadata": {},
     "output_type": "display_data"
    }
   ],
   "source": [
    "# plot the average price with number of bedrooms for each type of listing\n",
    "fig, axes = plt.subplots(nrows=1, ncols=2)\n",
    "h1 = sb.heatmap(df.groupby(['bedrooms','room_type']).price.mean().unstack(), annot=True, fmt=\".0f\", cmap = sb.cm.rocket_r, cbar_kws={'label': 'mean_price'}, ax=axes[0])\n",
    "axes[0].set_title('Average price with bedroom for each type of listing')\n",
    "h2 = sb.heatmap(df.groupby(['accommodates','room_type']).price.mean().unstack(), annot=True, fmt=\".0f\", cmap = sb.cm.rocket_r, cbar_kws={'label': 'mean_price'}, ax=axes[1])\n",
    "axes[1].set_title('Average price with accommodation for each type of listing')\n",
    "plt.savefig('Average price with bedrooms and accomodation for each type of listing.png')\n",
    "plt.subplots_adjust(left=0.1,\n",
    "                    bottom=0.1,\n",
    "                    right=1.5,\n",
    "                    wspace=0.4,\n",
    "                    hspace=1)\n",
    "plt.show()\n"
   ]
  },
  {
   "cell_type": "code",
   "execution_count": 7,
   "metadata": {},
   "outputs": [
    {
     "name": "stderr",
     "output_type": "stream",
     "text": [
      "C:\\Users\\Sherin Saju\\AppData\\Local\\Temp\\ipykernel_13936\\808899273.py:11: FutureWarning: Indexing with multiple keys (implicitly converted to a tuple of keys) will be deprecated, use a list instead.\n",
      "  nmap = nmap.groupby('neighborhood', as_index=False)['price','latitude', 'longitude'].mean()\n"
     ]
    }
   ],
   "source": [
    "'''\n",
    "To count number of listing and calculating average prices as per number of neighborhood. \n",
    "Also, to plot the results on a bar plot and map. \n",
    "'''\n",
    "\n",
    "import plotly.express as px\n",
    "import pandas as pd\n",
    "# collecting required data\n",
    "nmap = df[['neighborhood', 'price', 'latitude', 'longitude']]\n",
    "# sorting neighborhood on the basis price\n",
    "nmap = nmap.groupby('neighborhood', as_index=False)['price','latitude', 'longitude'].mean()\n",
    "# sorting neighborhood on the basis price\n",
    "nmap = nmap.sort_values('price')"
   ]
  },
  {
   "cell_type": "code",
   "execution_count": 8,
   "metadata": {},
   "outputs": [
    {
     "data": {
      "application/vnd.plotly.v1+json": {
       "config": {
        "plotlyServerURL": "https://plot.ly"
       },
       "data": [
        {
         "customdata": [
          [
           36.166666666666664
          ],
          [
           38
          ],
          [
           40
          ],
          [
           48.23076923076923
          ],
          [
           48.3
          ],
          [
           53.470588235294116
          ],
          [
           54.5
          ],
          [
           55.25
          ],
          [
           57.666666666666664
          ],
          [
           59
          ],
          [
           60.18181818181818
          ],
          [
           60.27272727272727
          ],
          [
           62.5
          ],
          [
           65
          ],
          [
           66.1
          ],
          [
           70.55555555555556
          ],
          [
           71.75
          ],
          [
           72.53333333333333
          ],
          [
           73.37931034482759
          ],
          [
           75.51315789473684
          ],
          [
           80.71428571428571
          ],
          [
           81.88888888888889
          ],
          [
           83.29166666666667
          ],
          [
           89.5
          ],
          [
           90.6969696969697
          ],
          [
           91.03571428571429
          ],
          [
           91.5
          ],
          [
           92.23611111111111
          ],
          [
           95.33333333333333
          ],
          [
           99.06766917293233
          ],
          [
           99.82352941176471
          ],
          [
           100.75
          ],
          [
           102.62962962962963
          ],
          [
           103.14285714285714
          ],
          [
           103.89473684210526
          ],
          [
           106.88235294117646
          ],
          [
           107.69658119658119
          ],
          [
           108.97457627118644
          ],
          [
           109.94444444444444
          ],
          [
           111.0952380952381
          ],
          [
           112.40506329113924
          ],
          [
           112.53658536585365
          ],
          [
           112.75
          ],
          [
           113.48275862068965
          ],
          [
           114.9090909090909
          ],
          [
           115.83333333333333
          ],
          [
           118.89473684210526
          ],
          [
           120
          ],
          [
           121.13333333333334
          ],
          [
           127.0754716981132
          ],
          [
           127.26530612244898
          ],
          [
           132.97058823529412
          ],
          [
           135.10526315789474
          ],
          [
           135.8095238095238
          ],
          [
           138.25531914893617
          ],
          [
           139.625
          ],
          [
           141.0609318996416
          ],
          [
           141.66666666666666
          ],
          [
           143.45205479452054
          ],
          [
           145
          ],
          [
           148.60076045627378
          ],
          [
           149.3658536585366
          ],
          [
           151.25
          ],
          [
           151.6153846153846
          ],
          [
           153.71794871794873
          ],
          [
           156.70434782608694
          ],
          [
           157.64864864864865
          ],
          [
           158.13432835820896
          ],
          [
           161.6201550387597
          ],
          [
           161.64285714285714
          ],
          [
           162.6
          ],
          [
           163.53521126760563
          ],
          [
           163.91477272727272
          ],
          [
           169
          ],
          [
           171.30769230769232
          ],
          [
           173.69230769230768
          ],
          [
           181.71428571428572
          ],
          [
           181.8
          ],
          [
           182.04854368932038
          ],
          [
           183.75
          ],
          [
           185.13131313131314
          ],
          [
           189.24528301886792
          ],
          [
           189.33333333333334
          ],
          [
           190.56972586412397
          ],
          [
           192.7826086956522
          ],
          [
           194.27464788732394
          ],
          [
           199.475
          ],
          [
           203.144
          ],
          [
           211.7505518763797
          ],
          [
           217.32846715328466
          ],
          [
           221.64705882352942
          ],
          [
           226.28865979381445
          ],
          [
           232.14117647058825
          ],
          [
           275.8888888888889
          ],
          [
           286.4643435980551
          ],
          [
           302.53225806451616
          ],
          [
           304.76
          ],
          [
           360
          ],
          [
           429.0576923076923
          ],
          [
           440.3333333333333
          ],
          [
           442.5313432835821
          ],
          [
           506
          ]
         ],
         "hovertemplate": "<b>%{hovertext}</b><br><br>price=%{marker.color}<br>latitude=%{lat}<br>longitude=%{lon}<extra></extra>",
         "hovertext": [
          "Alta Vista",
          "Bonita Long Canyon",
          "Amphitheater And Water Park",
          "Jomacha-Lomita",
          "Sky Line",
          "Southcrest",
          "Lincoln Park",
          "Sunbow",
          "Yosemite Dr",
          "Terra Nova",
          "Nestor",
          "El Cerritos",
          "Egger Highlands",
          "Chollas View",
          "Kearny Mesa",
          "Palm City",
          "Paseo Ranchoero",
          "Mount Hope",
          "City Heights East",
          "Mira Mesa",
          "Eastlake Vistas",
          "Carmel Mountain",
          "Encanto",
          "Eastlake Woods",
          "Rolando",
          "College Area",
          "Bay Terrace",
          "City Heights West",
          "Sabre Springs",
          "Clairemont Mesa",
          "Grantville",
          "East Lake",
          "Memorial",
          "Mountain View",
          "Darnall",
          "Tierrasanta",
          "University City",
          "Normal Heights",
          "Southwest",
          "Paradise Hills",
          "Moreno Mission",
          "Serra Mesa",
          "Otay Ranch",
          "Northwest",
          "Oak Park",
          "Lynwood Hills",
          "Allied Gardens",
          "Eastlake Trails",
          "Gateway",
          "Bay Ho",
          "South Park",
          "Talmadge",
          "Bird Land",
          "Del Cerro",
          "North Hills",
          "La Jolla Village",
          "Loma Portal",
          "Webster",
          "Rancho Penasquitos",
          "Emerald Hills",
          "Balboa Park",
          "Linda Vista",
          "Valencia Park",
          "Estlake Greens",
          "Mission Valley",
          "Midtown",
          "Bay Park",
          "North Clairemont",
          "Grant Hill",
          "Scripps Ranch",
          "Rolling Hills Ranch",
          "Old Town",
          "West University Heights",
          "San Ysidro",
          "Park West",
          "Sorrento Valley",
          "Lake Murray",
          "Bario Logan",
          "Cortez Hill",
          "Horton Plaza",
          "Core",
          "Midtown District",
          "Kensington",
          "Pacific Beach",
          "Gaslamp Quarter",
          "Marina",
          "Rancho Bernadino",
          "Ocean Beach",
          "East Village",
          "Little Italy",
          "San Carlos",
          "Carmel Valley",
          "Roseville",
          "Columbia",
          "Mission Bay",
          "Del Mar Heights",
          "North City",
          "Tijuana River Valley",
          "Wooded Area",
          "Rancho Del Rey",
          "La Jolla",
          "Torrey Pines"
         ],
         "lat": [
          32.693628,
          32.657681,
          32.58251,
          32.71502053846154,
          32.7055394,
          32.68853711764706,
          32.7012755,
          32.6193885,
          32.649715,
          32.642633499999995,
          32.56557936363636,
          32.755232909090914,
          32.575362,
          32.7110104,
          32.8242645,
          32.579408666666666,
          32.63032175,
          32.7096376,
          32.74442675862069,
          32.917413157894735,
          32.63664128571428,
          32.974126444444444,
          32.72074704166667,
          32.65373675,
          32.76196878787879,
          32.767933630952385,
          32.689428,
          32.74603883333334,
          32.94719011111111,
          32.816651917293235,
          32.78640892156863,
          32.65610625,
          32.702712444444444,
          32.698703214285715,
          32.74797394736842,
          32.83034005882353,
          32.86467034188034,
          32.76246207627119,
          32.610173333333336,
          32.677138523809525,
          32.767809911392405,
          32.791068,
          32.62363192307692,
          32.637126344827585,
          32.738277363636364,
          32.62942366666667,
          32.80115589473684,
          32.638359,
          32.725065533333336,
          32.82141758490566,
          32.72275531632653,
          32.761232676470584,
          32.78766694736842,
          32.787114476190474,
          32.74696199419729,
          32.86228135416667,
          32.74707658064516,
          32.727454916666666,
          32.963175493150686,
          32.718637,
          32.7187320608365,
          32.78347104878049,
          32.702671249999995,
          32.639290153846154,
          32.77141069230769,
          32.74248641956522,
          32.79070583783784,
          32.83488188059702,
          32.70993267441861,
          32.91788996428571,
          32.6667688,
          32.751035056338026,
          32.75947823863636,
          32.5551992,
          32.72842627972028,
          32.89308307692308,
          32.80132471428571,
          32.6962894,
          32.72130816504855,
          32.71377475,
          32.71704065656566,
          32.72476764150944,
          32.762797404761905,
          32.80115766150179,
          32.712867557971016,
          32.71217143661972,
          33.0200812,
          32.74557899733333,
          32.71193046578367,
          32.724056810218975,
          32.7987049117647,
          32.94153528865979,
          32.731040635294114,
          32.71891133333333,
          32.77527556888168,
          32.94553003225806,
          32.96473192,
          32.545876,
          32.71873128846154,
          32.64637483333333,
          32.83491960149254,
          32.88828715384615
         ],
         "legendgroup": "",
         "lon": [
          -117.07752166666667,
          -117.0089,
          -117.007791,
          -117.03514676923078,
          -117.03908799999999,
          -117.11215023529411,
          -117.087952,
          -117.02988575,
          -116.951308,
          -117.04473566666667,
          -117.07883345454546,
          -117.07224563636363,
          -117.1022895,
          -117.0911018,
          -117.14571350000001,
          -117.07670933333333,
          -117.00821499999999,
          -117.1093424,
          -117.09222044827585,
          -117.1415282368421,
          -116.9382597142857,
          -117.08021833333333,
          -117.05810420833335,
          -116.94716025,
          -117.05819678787879,
          -117.06793826190476,
          -117.029014,
          -117.11337202777779,
          -117.09409755555556,
          -117.17858274436091,
          -117.10470300000001,
          -116.97425375,
          -117.13500966666668,
          -117.10772914285714,
          -117.06238557894736,
          -117.08690705882353,
          -117.21488554273505,
          -117.11944986440679,
          -117.05749205555556,
          -117.05781642857143,
          -117.1897049113924,
          -117.13648452439026,
          -116.98048226923076,
          -117.07797967241379,
          -117.069833,
          -117.028307,
          -117.09091557894737,
          -116.950756,
          -117.10967493333332,
          -117.21391160377358,
          -117.12597310204082,
          -117.0894205882353,
          -117.15771215789472,
          -117.07532552380951,
          -117.13231618955513,
          -117.2340503125,
          -117.23417153763441,
          -117.09209916666667,
          -117.13334335616439,
          -117.080825,
          -117.13806648288973,
          -117.17265903658537,
          -117.07546375,
          -116.95824907692307,
          -117.1522625128205,
          -117.16287887826087,
          -117.19952545945947,
          -117.19785019402984,
          -117.13975966666666,
          -117.08788371428571,
          -116.95481280000001,
          -117.17969711267605,
          -117.15101314772727,
          -117.0512184,
          -117.16372805594405,
          -117.19621023076924,
          -117.027118,
          -117.1370614,
          -117.15953974757281,
          -117.16434625,
          -117.15762656565657,
          -117.21148350943396,
          -117.10422435714285,
          -117.24600466984505,
          -117.16029918115942,
          -117.16669059154931,
          -117.07683784999999,
          -117.24973939466666,
          -117.15446636865342,
          -117.16852702189782,
          -117.05923,
          -117.21754074226806,
          -117.22953851764706,
          -117.16904155555555,
          -117.24483524797407,
          -117.25210116129033,
          -117.22743764,
          -117.070876,
          -117.24277798076923,
          -117.0299865,
          -117.26755572537313,
          -117.24721807692308
         ],
         "marker": {
          "color": [
           36.166666666666664,
           38,
           40,
           48.23076923076923,
           48.3,
           53.470588235294116,
           54.5,
           55.25,
           57.666666666666664,
           59,
           60.18181818181818,
           60.27272727272727,
           62.5,
           65,
           66.1,
           70.55555555555556,
           71.75,
           72.53333333333333,
           73.37931034482759,
           75.51315789473684,
           80.71428571428571,
           81.88888888888889,
           83.29166666666667,
           89.5,
           90.6969696969697,
           91.03571428571429,
           91.5,
           92.23611111111111,
           95.33333333333333,
           99.06766917293233,
           99.82352941176471,
           100.75,
           102.62962962962963,
           103.14285714285714,
           103.89473684210526,
           106.88235294117646,
           107.69658119658119,
           108.97457627118644,
           109.94444444444444,
           111.0952380952381,
           112.40506329113924,
           112.53658536585365,
           112.75,
           113.48275862068965,
           114.9090909090909,
           115.83333333333333,
           118.89473684210526,
           120,
           121.13333333333334,
           127.0754716981132,
           127.26530612244898,
           132.97058823529412,
           135.10526315789474,
           135.8095238095238,
           138.25531914893617,
           139.625,
           141.0609318996416,
           141.66666666666666,
           143.45205479452054,
           145,
           148.60076045627378,
           149.3658536585366,
           151.25,
           151.6153846153846,
           153.71794871794873,
           156.70434782608694,
           157.64864864864865,
           158.13432835820896,
           161.6201550387597,
           161.64285714285714,
           162.6,
           163.53521126760563,
           163.91477272727272,
           169,
           171.30769230769232,
           173.69230769230768,
           181.71428571428572,
           181.8,
           182.04854368932038,
           183.75,
           185.13131313131314,
           189.24528301886792,
           189.33333333333334,
           190.56972586412397,
           192.7826086956522,
           194.27464788732394,
           199.475,
           203.144,
           211.7505518763797,
           217.32846715328466,
           221.64705882352942,
           226.28865979381445,
           232.14117647058825,
           275.8888888888889,
           286.4643435980551,
           302.53225806451616,
           304.76,
           360,
           429.0576923076923,
           440.3333333333333,
           442.5313432835821,
           506
          ],
          "coloraxis": "coloraxis",
          "size": [
           36.166666666666664,
           38,
           40,
           48.23076923076923,
           48.3,
           53.470588235294116,
           54.5,
           55.25,
           57.666666666666664,
           59,
           60.18181818181818,
           60.27272727272727,
           62.5,
           65,
           66.1,
           70.55555555555556,
           71.75,
           72.53333333333333,
           73.37931034482759,
           75.51315789473684,
           80.71428571428571,
           81.88888888888889,
           83.29166666666667,
           89.5,
           90.6969696969697,
           91.03571428571429,
           91.5,
           92.23611111111111,
           95.33333333333333,
           99.06766917293233,
           99.82352941176471,
           100.75,
           102.62962962962963,
           103.14285714285714,
           103.89473684210526,
           106.88235294117646,
           107.69658119658119,
           108.97457627118644,
           109.94444444444444,
           111.0952380952381,
           112.40506329113924,
           112.53658536585365,
           112.75,
           113.48275862068965,
           114.9090909090909,
           115.83333333333333,
           118.89473684210526,
           120,
           121.13333333333334,
           127.0754716981132,
           127.26530612244898,
           132.97058823529412,
           135.10526315789474,
           135.8095238095238,
           138.25531914893617,
           139.625,
           141.0609318996416,
           141.66666666666666,
           143.45205479452054,
           145,
           148.60076045627378,
           149.3658536585366,
           151.25,
           151.6153846153846,
           153.71794871794873,
           156.70434782608694,
           157.64864864864865,
           158.13432835820896,
           161.6201550387597,
           161.64285714285714,
           162.6,
           163.53521126760563,
           163.91477272727272,
           169,
           171.30769230769232,
           173.69230769230768,
           181.71428571428572,
           181.8,
           182.04854368932038,
           183.75,
           185.13131313131314,
           189.24528301886792,
           189.33333333333334,
           190.56972586412397,
           192.7826086956522,
           194.27464788732394,
           199.475,
           203.144,
           211.7505518763797,
           217.32846715328466,
           221.64705882352942,
           226.28865979381445,
           232.14117647058825,
           275.8888888888889,
           286.4643435980551,
           302.53225806451616,
           304.76,
           360,
           429.0576923076923,
           440.3333333333333,
           442.5313432835821,
           506
          ],
          "sizemode": "area",
          "sizeref": 1.265
         },
         "mode": "markers",
         "name": "",
         "showlegend": false,
         "subplot": "mapbox",
         "type": "scattermapbox"
        }
       ],
       "layout": {
        "coloraxis": {
         "colorbar": {
          "title": {
           "text": "price"
          }
         },
         "colorscale": [
          [
           0,
           "green"
          ],
          [
           1,
           "red"
          ]
         ]
        },
        "height": 1200,
        "legend": {
         "itemsizing": "constant",
         "tracegroupgap": 0
        },
        "mapbox": {
         "center": {
          "lat": 32.742725074676216,
          "lon": -117.11200905266286
         },
         "domain": {
          "x": [
           0,
           1
          ],
          "y": [
           0,
           1
          ]
         },
         "style": "open-street-map",
         "zoom": 8
        },
        "margin": {
         "b": 0,
         "l": 0,
         "r": 0,
         "t": 0
        },
        "template": {
         "data": {
          "bar": [
           {
            "error_x": {
             "color": "#2a3f5f"
            },
            "error_y": {
             "color": "#2a3f5f"
            },
            "marker": {
             "line": {
              "color": "#E5ECF6",
              "width": 0.5
             },
             "pattern": {
              "fillmode": "overlay",
              "size": 10,
              "solidity": 0.2
             }
            },
            "type": "bar"
           }
          ],
          "barpolar": [
           {
            "marker": {
             "line": {
              "color": "#E5ECF6",
              "width": 0.5
             },
             "pattern": {
              "fillmode": "overlay",
              "size": 10,
              "solidity": 0.2
             }
            },
            "type": "barpolar"
           }
          ],
          "carpet": [
           {
            "aaxis": {
             "endlinecolor": "#2a3f5f",
             "gridcolor": "white",
             "linecolor": "white",
             "minorgridcolor": "white",
             "startlinecolor": "#2a3f5f"
            },
            "baxis": {
             "endlinecolor": "#2a3f5f",
             "gridcolor": "white",
             "linecolor": "white",
             "minorgridcolor": "white",
             "startlinecolor": "#2a3f5f"
            },
            "type": "carpet"
           }
          ],
          "choropleth": [
           {
            "colorbar": {
             "outlinewidth": 0,
             "ticks": ""
            },
            "type": "choropleth"
           }
          ],
          "contour": [
           {
            "colorbar": {
             "outlinewidth": 0,
             "ticks": ""
            },
            "colorscale": [
             [
              0,
              "#0d0887"
             ],
             [
              0.1111111111111111,
              "#46039f"
             ],
             [
              0.2222222222222222,
              "#7201a8"
             ],
             [
              0.3333333333333333,
              "#9c179e"
             ],
             [
              0.4444444444444444,
              "#bd3786"
             ],
             [
              0.5555555555555556,
              "#d8576b"
             ],
             [
              0.6666666666666666,
              "#ed7953"
             ],
             [
              0.7777777777777778,
              "#fb9f3a"
             ],
             [
              0.8888888888888888,
              "#fdca26"
             ],
             [
              1,
              "#f0f921"
             ]
            ],
            "type": "contour"
           }
          ],
          "contourcarpet": [
           {
            "colorbar": {
             "outlinewidth": 0,
             "ticks": ""
            },
            "type": "contourcarpet"
           }
          ],
          "heatmap": [
           {
            "colorbar": {
             "outlinewidth": 0,
             "ticks": ""
            },
            "colorscale": [
             [
              0,
              "#0d0887"
             ],
             [
              0.1111111111111111,
              "#46039f"
             ],
             [
              0.2222222222222222,
              "#7201a8"
             ],
             [
              0.3333333333333333,
              "#9c179e"
             ],
             [
              0.4444444444444444,
              "#bd3786"
             ],
             [
              0.5555555555555556,
              "#d8576b"
             ],
             [
              0.6666666666666666,
              "#ed7953"
             ],
             [
              0.7777777777777778,
              "#fb9f3a"
             ],
             [
              0.8888888888888888,
              "#fdca26"
             ],
             [
              1,
              "#f0f921"
             ]
            ],
            "type": "heatmap"
           }
          ],
          "heatmapgl": [
           {
            "colorbar": {
             "outlinewidth": 0,
             "ticks": ""
            },
            "colorscale": [
             [
              0,
              "#0d0887"
             ],
             [
              0.1111111111111111,
              "#46039f"
             ],
             [
              0.2222222222222222,
              "#7201a8"
             ],
             [
              0.3333333333333333,
              "#9c179e"
             ],
             [
              0.4444444444444444,
              "#bd3786"
             ],
             [
              0.5555555555555556,
              "#d8576b"
             ],
             [
              0.6666666666666666,
              "#ed7953"
             ],
             [
              0.7777777777777778,
              "#fb9f3a"
             ],
             [
              0.8888888888888888,
              "#fdca26"
             ],
             [
              1,
              "#f0f921"
             ]
            ],
            "type": "heatmapgl"
           }
          ],
          "histogram": [
           {
            "marker": {
             "pattern": {
              "fillmode": "overlay",
              "size": 10,
              "solidity": 0.2
             }
            },
            "type": "histogram"
           }
          ],
          "histogram2d": [
           {
            "colorbar": {
             "outlinewidth": 0,
             "ticks": ""
            },
            "colorscale": [
             [
              0,
              "#0d0887"
             ],
             [
              0.1111111111111111,
              "#46039f"
             ],
             [
              0.2222222222222222,
              "#7201a8"
             ],
             [
              0.3333333333333333,
              "#9c179e"
             ],
             [
              0.4444444444444444,
              "#bd3786"
             ],
             [
              0.5555555555555556,
              "#d8576b"
             ],
             [
              0.6666666666666666,
              "#ed7953"
             ],
             [
              0.7777777777777778,
              "#fb9f3a"
             ],
             [
              0.8888888888888888,
              "#fdca26"
             ],
             [
              1,
              "#f0f921"
             ]
            ],
            "type": "histogram2d"
           }
          ],
          "histogram2dcontour": [
           {
            "colorbar": {
             "outlinewidth": 0,
             "ticks": ""
            },
            "colorscale": [
             [
              0,
              "#0d0887"
             ],
             [
              0.1111111111111111,
              "#46039f"
             ],
             [
              0.2222222222222222,
              "#7201a8"
             ],
             [
              0.3333333333333333,
              "#9c179e"
             ],
             [
              0.4444444444444444,
              "#bd3786"
             ],
             [
              0.5555555555555556,
              "#d8576b"
             ],
             [
              0.6666666666666666,
              "#ed7953"
             ],
             [
              0.7777777777777778,
              "#fb9f3a"
             ],
             [
              0.8888888888888888,
              "#fdca26"
             ],
             [
              1,
              "#f0f921"
             ]
            ],
            "type": "histogram2dcontour"
           }
          ],
          "mesh3d": [
           {
            "colorbar": {
             "outlinewidth": 0,
             "ticks": ""
            },
            "type": "mesh3d"
           }
          ],
          "parcoords": [
           {
            "line": {
             "colorbar": {
              "outlinewidth": 0,
              "ticks": ""
             }
            },
            "type": "parcoords"
           }
          ],
          "pie": [
           {
            "automargin": true,
            "type": "pie"
           }
          ],
          "scatter": [
           {
            "fillpattern": {
             "fillmode": "overlay",
             "size": 10,
             "solidity": 0.2
            },
            "type": "scatter"
           }
          ],
          "scatter3d": [
           {
            "line": {
             "colorbar": {
              "outlinewidth": 0,
              "ticks": ""
             }
            },
            "marker": {
             "colorbar": {
              "outlinewidth": 0,
              "ticks": ""
             }
            },
            "type": "scatter3d"
           }
          ],
          "scattercarpet": [
           {
            "marker": {
             "colorbar": {
              "outlinewidth": 0,
              "ticks": ""
             }
            },
            "type": "scattercarpet"
           }
          ],
          "scattergeo": [
           {
            "marker": {
             "colorbar": {
              "outlinewidth": 0,
              "ticks": ""
             }
            },
            "type": "scattergeo"
           }
          ],
          "scattergl": [
           {
            "marker": {
             "colorbar": {
              "outlinewidth": 0,
              "ticks": ""
             }
            },
            "type": "scattergl"
           }
          ],
          "scattermapbox": [
           {
            "marker": {
             "colorbar": {
              "outlinewidth": 0,
              "ticks": ""
             }
            },
            "type": "scattermapbox"
           }
          ],
          "scatterpolar": [
           {
            "marker": {
             "colorbar": {
              "outlinewidth": 0,
              "ticks": ""
             }
            },
            "type": "scatterpolar"
           }
          ],
          "scatterpolargl": [
           {
            "marker": {
             "colorbar": {
              "outlinewidth": 0,
              "ticks": ""
             }
            },
            "type": "scatterpolargl"
           }
          ],
          "scatterternary": [
           {
            "marker": {
             "colorbar": {
              "outlinewidth": 0,
              "ticks": ""
             }
            },
            "type": "scatterternary"
           }
          ],
          "surface": [
           {
            "colorbar": {
             "outlinewidth": 0,
             "ticks": ""
            },
            "colorscale": [
             [
              0,
              "#0d0887"
             ],
             [
              0.1111111111111111,
              "#46039f"
             ],
             [
              0.2222222222222222,
              "#7201a8"
             ],
             [
              0.3333333333333333,
              "#9c179e"
             ],
             [
              0.4444444444444444,
              "#bd3786"
             ],
             [
              0.5555555555555556,
              "#d8576b"
             ],
             [
              0.6666666666666666,
              "#ed7953"
             ],
             [
              0.7777777777777778,
              "#fb9f3a"
             ],
             [
              0.8888888888888888,
              "#fdca26"
             ],
             [
              1,
              "#f0f921"
             ]
            ],
            "type": "surface"
           }
          ],
          "table": [
           {
            "cells": {
             "fill": {
              "color": "#EBF0F8"
             },
             "line": {
              "color": "white"
             }
            },
            "header": {
             "fill": {
              "color": "#C8D4E3"
             },
             "line": {
              "color": "white"
             }
            },
            "type": "table"
           }
          ]
         },
         "layout": {
          "annotationdefaults": {
           "arrowcolor": "#2a3f5f",
           "arrowhead": 0,
           "arrowwidth": 1
          },
          "autotypenumbers": "strict",
          "coloraxis": {
           "colorbar": {
            "outlinewidth": 0,
            "ticks": ""
           }
          },
          "colorscale": {
           "diverging": [
            [
             0,
             "#8e0152"
            ],
            [
             0.1,
             "#c51b7d"
            ],
            [
             0.2,
             "#de77ae"
            ],
            [
             0.3,
             "#f1b6da"
            ],
            [
             0.4,
             "#fde0ef"
            ],
            [
             0.5,
             "#f7f7f7"
            ],
            [
             0.6,
             "#e6f5d0"
            ],
            [
             0.7,
             "#b8e186"
            ],
            [
             0.8,
             "#7fbc41"
            ],
            [
             0.9,
             "#4d9221"
            ],
            [
             1,
             "#276419"
            ]
           ],
           "sequential": [
            [
             0,
             "#0d0887"
            ],
            [
             0.1111111111111111,
             "#46039f"
            ],
            [
             0.2222222222222222,
             "#7201a8"
            ],
            [
             0.3333333333333333,
             "#9c179e"
            ],
            [
             0.4444444444444444,
             "#bd3786"
            ],
            [
             0.5555555555555556,
             "#d8576b"
            ],
            [
             0.6666666666666666,
             "#ed7953"
            ],
            [
             0.7777777777777778,
             "#fb9f3a"
            ],
            [
             0.8888888888888888,
             "#fdca26"
            ],
            [
             1,
             "#f0f921"
            ]
           ],
           "sequentialminus": [
            [
             0,
             "#0d0887"
            ],
            [
             0.1111111111111111,
             "#46039f"
            ],
            [
             0.2222222222222222,
             "#7201a8"
            ],
            [
             0.3333333333333333,
             "#9c179e"
            ],
            [
             0.4444444444444444,
             "#bd3786"
            ],
            [
             0.5555555555555556,
             "#d8576b"
            ],
            [
             0.6666666666666666,
             "#ed7953"
            ],
            [
             0.7777777777777778,
             "#fb9f3a"
            ],
            [
             0.8888888888888888,
             "#fdca26"
            ],
            [
             1,
             "#f0f921"
            ]
           ]
          },
          "colorway": [
           "#636efa",
           "#EF553B",
           "#00cc96",
           "#ab63fa",
           "#FFA15A",
           "#19d3f3",
           "#FF6692",
           "#B6E880",
           "#FF97FF",
           "#FECB52"
          ],
          "font": {
           "color": "#2a3f5f"
          },
          "geo": {
           "bgcolor": "white",
           "lakecolor": "white",
           "landcolor": "#E5ECF6",
           "showlakes": true,
           "showland": true,
           "subunitcolor": "white"
          },
          "hoverlabel": {
           "align": "left"
          },
          "hovermode": "closest",
          "mapbox": {
           "style": "light"
          },
          "paper_bgcolor": "white",
          "plot_bgcolor": "#E5ECF6",
          "polar": {
           "angularaxis": {
            "gridcolor": "white",
            "linecolor": "white",
            "ticks": ""
           },
           "bgcolor": "#E5ECF6",
           "radialaxis": {
            "gridcolor": "white",
            "linecolor": "white",
            "ticks": ""
           }
          },
          "scene": {
           "xaxis": {
            "backgroundcolor": "#E5ECF6",
            "gridcolor": "white",
            "gridwidth": 2,
            "linecolor": "white",
            "showbackground": true,
            "ticks": "",
            "zerolinecolor": "white"
           },
           "yaxis": {
            "backgroundcolor": "#E5ECF6",
            "gridcolor": "white",
            "gridwidth": 2,
            "linecolor": "white",
            "showbackground": true,
            "ticks": "",
            "zerolinecolor": "white"
           },
           "zaxis": {
            "backgroundcolor": "#E5ECF6",
            "gridcolor": "white",
            "gridwidth": 2,
            "linecolor": "white",
            "showbackground": true,
            "ticks": "",
            "zerolinecolor": "white"
           }
          },
          "shapedefaults": {
           "line": {
            "color": "#2a3f5f"
           }
          },
          "ternary": {
           "aaxis": {
            "gridcolor": "white",
            "linecolor": "white",
            "ticks": ""
           },
           "baxis": {
            "gridcolor": "white",
            "linecolor": "white",
            "ticks": ""
           },
           "bgcolor": "#E5ECF6",
           "caxis": {
            "gridcolor": "white",
            "linecolor": "white",
            "ticks": ""
           }
          },
          "title": {
           "x": 0.05
          },
          "xaxis": {
           "automargin": true,
           "gridcolor": "white",
           "linecolor": "white",
           "ticks": "",
           "title": {
            "standoff": 15
           },
           "zerolinecolor": "white",
           "zerolinewidth": 2
          },
          "yaxis": {
           "automargin": true,
           "gridcolor": "white",
           "linecolor": "white",
           "ticks": "",
           "title": {
            "standoff": 15
           },
           "zerolinecolor": "white",
           "zerolinewidth": 2
          }
         }
        },
        "width": 1200
       }
      }
     },
     "metadata": {},
     "output_type": "display_data"
    },
    {
     "data": {
      "text/plain": [
       "<Figure size 500x500 with 0 Axes>"
      ]
     },
     "metadata": {},
     "output_type": "display_data"
    }
   ],
   "source": [
    "# plotting the average price per neighbourhood data on intercative map. \n",
    "\n",
    "color_scale = [(0, 'green'), (1,'red')]\n",
    "plt.figure(figsize=(5,5))\n",
    "fig = px.scatter_mapbox(nmap, lat=\"latitude\", lon=\"longitude\", hover_name=\"neighborhood\", hover_data=[\"price\"],color=\"price\", color_continuous_scale=color_scale, size=\"price\", zoom=8, height=1200, width=1200)\n",
    "fig.update_layout(mapbox_style=\"open-street-map\")\n",
    "fig.update_layout(margin={\"r\":0,\"t\":0,\"l\":0,\"b\":0})\n",
    "fig.show()"
   ]
  }
 ],
 "metadata": {
  "kernelspec": {
   "display_name": "Python 3.9.13 ('cmps530')",
   "language": "python",
   "name": "python3"
  },
  "language_info": {
   "codemirror_mode": {
    "name": "ipython",
    "version": 3
   },
   "file_extension": ".py",
   "mimetype": "text/x-python",
   "name": "python",
   "nbconvert_exporter": "python",
   "pygments_lexer": "ipython3",
   "version": "3.9.13"
  },
  "orig_nbformat": 4,
  "vscode": {
   "interpreter": {
    "hash": "12b9d40602e97770947dc373da153bd9566a676a71756a7f969d0fff49669e03"
   }
  }
 },
 "nbformat": 4,
 "nbformat_minor": 2
}
